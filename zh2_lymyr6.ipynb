{
    "metadata": {
        "kernelspec": {
            "name": "SQL",
            "display_name": "SQL",
            "language": "sql"
        },
        "language_info": {
            "name": "sql",
            "version": ""
        }
    },
    "nbformat_minor": 2,
    "nbformat": 4,
    "cells": [
        {
            "cell_type": "markdown",
            "source": [
                "# **1\\. feladat**"
            ],
            "metadata": {
                "azdata_cell_guid": "6008f086-6809-42c4-a234-99c76de29649",
                "language": ""
            },
            "attachments": {}
        },
        {
            "cell_type": "code",
            "source": [
                "SELECT SZOBA_FK, COUNT(*) AS foglalasok_szama\n",
                "FROM Foglalas\n",
                "\n",
                "GROUP BY ROLLUP(SZOBA_FK)\n",
                "\n",
                "HAVING SZOBA_FK IS NOT NULL OR (SZOBA_FK IS NULL AND COUNT(*) > 0)"
            ],
            "metadata": {
                "azdata_cell_guid": "495683e9-4574-4887-9bcb-0fe6f9174459",
                "language": "sql"
            },
            "outputs": [
                {
                    "output_type": "display_data",
                    "data": {
                        "text/html": "(198 rows affected)"
                    },
                    "metadata": {}
                },
                {
                    "output_type": "display_data",
                    "data": {
                        "text/html": "Total execution time: 00:00:00.019"
                    },
                    "metadata": {}
                },
                {
                    "output_type": "execute_result",
                    "metadata": {},
                    "execution_count": 11,
                    "data": {
                        "application/vnd.dataresource+json": {
                            "schema": {
                                "fields": [
                                    {
                                        "name": "SZOBA_FK"
                                    },
                                    {
                                        "name": "foglalasok_szama"
                                    }
                                ]
                            },
                            "data": [
                                {
                                    "SZOBA_FK": "1",
                                    "foglalasok_szama": "8"
                                },
                                {
                                    "SZOBA_FK": "2",
                                    "foglalasok_szama": "4"
                                },
                                {
                                    "SZOBA_FK": "3",
                                    "foglalasok_szama": "8"
                                },
                                {
                                    "SZOBA_FK": "4",
                                    "foglalasok_szama": "6"
                                },
                                {
                                    "SZOBA_FK": "5",
                                    "foglalasok_szama": "4"
                                },
                                {
                                    "SZOBA_FK": "6",
                                    "foglalasok_szama": "6"
                                },
                                {
                                    "SZOBA_FK": "7",
                                    "foglalasok_szama": "6"
                                },
                                {
                                    "SZOBA_FK": "8",
                                    "foglalasok_szama": "5"
                                },
                                {
                                    "SZOBA_FK": "9",
                                    "foglalasok_szama": "6"
                                },
                                {
                                    "SZOBA_FK": "10",
                                    "foglalasok_szama": "4"
                                },
                                {
                                    "SZOBA_FK": "11",
                                    "foglalasok_szama": "4"
                                },
                                {
                                    "SZOBA_FK": "12",
                                    "foglalasok_szama": "9"
                                },
                                {
                                    "SZOBA_FK": "13",
                                    "foglalasok_szama": "4"
                                },
                                {
                                    "SZOBA_FK": "14",
                                    "foglalasok_szama": "3"
                                },
                                {
                                    "SZOBA_FK": "15",
                                    "foglalasok_szama": "6"
                                },
                                {
                                    "SZOBA_FK": "16",
                                    "foglalasok_szama": "5"
                                },
                                {
                                    "SZOBA_FK": "17",
                                    "foglalasok_szama": "6"
                                },
                                {
                                    "SZOBA_FK": "18",
                                    "foglalasok_szama": "6"
                                },
                                {
                                    "SZOBA_FK": "19",
                                    "foglalasok_szama": "6"
                                },
                                {
                                    "SZOBA_FK": "20",
                                    "foglalasok_szama": "5"
                                },
                                {
                                    "SZOBA_FK": "21",
                                    "foglalasok_szama": "4"
                                },
                                {
                                    "SZOBA_FK": "22",
                                    "foglalasok_szama": "6"
                                },
                                {
                                    "SZOBA_FK": "23",
                                    "foglalasok_szama": "3"
                                },
                                {
                                    "SZOBA_FK": "24",
                                    "foglalasok_szama": "3"
                                },
                                {
                                    "SZOBA_FK": "25",
                                    "foglalasok_szama": "2"
                                },
                                {
                                    "SZOBA_FK": "26",
                                    "foglalasok_szama": "2"
                                },
                                {
                                    "SZOBA_FK": "27",
                                    "foglalasok_szama": "7"
                                },
                                {
                                    "SZOBA_FK": "28",
                                    "foglalasok_szama": "6"
                                },
                                {
                                    "SZOBA_FK": "29",
                                    "foglalasok_szama": "6"
                                },
                                {
                                    "SZOBA_FK": "30",
                                    "foglalasok_szama": "3"
                                },
                                {
                                    "SZOBA_FK": "31",
                                    "foglalasok_szama": "3"
                                },
                                {
                                    "SZOBA_FK": "32",
                                    "foglalasok_szama": "1"
                                },
                                {
                                    "SZOBA_FK": "33",
                                    "foglalasok_szama": "6"
                                },
                                {
                                    "SZOBA_FK": "34",
                                    "foglalasok_szama": "4"
                                },
                                {
                                    "SZOBA_FK": "35",
                                    "foglalasok_szama": "9"
                                },
                                {
                                    "SZOBA_FK": "36",
                                    "foglalasok_szama": "6"
                                },
                                {
                                    "SZOBA_FK": "37",
                                    "foglalasok_szama": "3"
                                },
                                {
                                    "SZOBA_FK": "38",
                                    "foglalasok_szama": "8"
                                },
                                {
                                    "SZOBA_FK": "39",
                                    "foglalasok_szama": "7"
                                },
                                {
                                    "SZOBA_FK": "40",
                                    "foglalasok_szama": "4"
                                },
                                {
                                    "SZOBA_FK": "41",
                                    "foglalasok_szama": "2"
                                },
                                {
                                    "SZOBA_FK": "42",
                                    "foglalasok_szama": "6"
                                },
                                {
                                    "SZOBA_FK": "43",
                                    "foglalasok_szama": "8"
                                },
                                {
                                    "SZOBA_FK": "44",
                                    "foglalasok_szama": "6"
                                },
                                {
                                    "SZOBA_FK": "45",
                                    "foglalasok_szama": "5"
                                },
                                {
                                    "SZOBA_FK": "46",
                                    "foglalasok_szama": "4"
                                },
                                {
                                    "SZOBA_FK": "47",
                                    "foglalasok_szama": "2"
                                },
                                {
                                    "SZOBA_FK": "48",
                                    "foglalasok_szama": "9"
                                },
                                {
                                    "SZOBA_FK": "49",
                                    "foglalasok_szama": "7"
                                },
                                {
                                    "SZOBA_FK": "50",
                                    "foglalasok_szama": "4"
                                },
                                {
                                    "SZOBA_FK": "51",
                                    "foglalasok_szama": "5"
                                },
                                {
                                    "SZOBA_FK": "52",
                                    "foglalasok_szama": "5"
                                },
                                {
                                    "SZOBA_FK": "53",
                                    "foglalasok_szama": "2"
                                },
                                {
                                    "SZOBA_FK": "54",
                                    "foglalasok_szama": "6"
                                },
                                {
                                    "SZOBA_FK": "55",
                                    "foglalasok_szama": "8"
                                },
                                {
                                    "SZOBA_FK": "56",
                                    "foglalasok_szama": "2"
                                },
                                {
                                    "SZOBA_FK": "57",
                                    "foglalasok_szama": "4"
                                },
                                {
                                    "SZOBA_FK": "58",
                                    "foglalasok_szama": "13"
                                },
                                {
                                    "SZOBA_FK": "59",
                                    "foglalasok_szama": "7"
                                },
                                {
                                    "SZOBA_FK": "60",
                                    "foglalasok_szama": "1"
                                },
                                {
                                    "SZOBA_FK": "61",
                                    "foglalasok_szama": "5"
                                },
                                {
                                    "SZOBA_FK": "62",
                                    "foglalasok_szama": "5"
                                },
                                {
                                    "SZOBA_FK": "63",
                                    "foglalasok_szama": "4"
                                },
                                {
                                    "SZOBA_FK": "64",
                                    "foglalasok_szama": "6"
                                },
                                {
                                    "SZOBA_FK": "65",
                                    "foglalasok_szama": "1"
                                },
                                {
                                    "SZOBA_FK": "66",
                                    "foglalasok_szama": "4"
                                },
                                {
                                    "SZOBA_FK": "67",
                                    "foglalasok_szama": "6"
                                },
                                {
                                    "SZOBA_FK": "68",
                                    "foglalasok_szama": "3"
                                },
                                {
                                    "SZOBA_FK": "69",
                                    "foglalasok_szama": "4"
                                },
                                {
                                    "SZOBA_FK": "70",
                                    "foglalasok_szama": "11"
                                },
                                {
                                    "SZOBA_FK": "71",
                                    "foglalasok_szama": "3"
                                },
                                {
                                    "SZOBA_FK": "72",
                                    "foglalasok_szama": "4"
                                },
                                {
                                    "SZOBA_FK": "73",
                                    "foglalasok_szama": "4"
                                },
                                {
                                    "SZOBA_FK": "74",
                                    "foglalasok_szama": "9"
                                },
                                {
                                    "SZOBA_FK": "75",
                                    "foglalasok_szama": "3"
                                },
                                {
                                    "SZOBA_FK": "76",
                                    "foglalasok_szama": "3"
                                },
                                {
                                    "SZOBA_FK": "77",
                                    "foglalasok_szama": "6"
                                },
                                {
                                    "SZOBA_FK": "78",
                                    "foglalasok_szama": "6"
                                },
                                {
                                    "SZOBA_FK": "79",
                                    "foglalasok_szama": "5"
                                },
                                {
                                    "SZOBA_FK": "80",
                                    "foglalasok_szama": "7"
                                },
                                {
                                    "SZOBA_FK": "81",
                                    "foglalasok_szama": "5"
                                },
                                {
                                    "SZOBA_FK": "82",
                                    "foglalasok_szama": "6"
                                },
                                {
                                    "SZOBA_FK": "83",
                                    "foglalasok_szama": "8"
                                },
                                {
                                    "SZOBA_FK": "84",
                                    "foglalasok_szama": "4"
                                },
                                {
                                    "SZOBA_FK": "85",
                                    "foglalasok_szama": "4"
                                },
                                {
                                    "SZOBA_FK": "86",
                                    "foglalasok_szama": "5"
                                },
                                {
                                    "SZOBA_FK": "87",
                                    "foglalasok_szama": "5"
                                },
                                {
                                    "SZOBA_FK": "88",
                                    "foglalasok_szama": "8"
                                },
                                {
                                    "SZOBA_FK": "89",
                                    "foglalasok_szama": "8"
                                },
                                {
                                    "SZOBA_FK": "90",
                                    "foglalasok_szama": "4"
                                },
                                {
                                    "SZOBA_FK": "91",
                                    "foglalasok_szama": "4"
                                },
                                {
                                    "SZOBA_FK": "92",
                                    "foglalasok_szama": "6"
                                },
                                {
                                    "SZOBA_FK": "93",
                                    "foglalasok_szama": "5"
                                },
                                {
                                    "SZOBA_FK": "94",
                                    "foglalasok_szama": "10"
                                },
                                {
                                    "SZOBA_FK": "95",
                                    "foglalasok_szama": "4"
                                },
                                {
                                    "SZOBA_FK": "96",
                                    "foglalasok_szama": "7"
                                },
                                {
                                    "SZOBA_FK": "97",
                                    "foglalasok_szama": "7"
                                },
                                {
                                    "SZOBA_FK": "98",
                                    "foglalasok_szama": "4"
                                },
                                {
                                    "SZOBA_FK": "99",
                                    "foglalasok_szama": "5"
                                },
                                {
                                    "SZOBA_FK": "100",
                                    "foglalasok_szama": "4"
                                },
                                {
                                    "SZOBA_FK": "101",
                                    "foglalasok_szama": "3"
                                },
                                {
                                    "SZOBA_FK": "102",
                                    "foglalasok_szama": "2"
                                },
                                {
                                    "SZOBA_FK": "103",
                                    "foglalasok_szama": "4"
                                },
                                {
                                    "SZOBA_FK": "104",
                                    "foglalasok_szama": "4"
                                },
                                {
                                    "SZOBA_FK": "105",
                                    "foglalasok_szama": "2"
                                },
                                {
                                    "SZOBA_FK": "106",
                                    "foglalasok_szama": "6"
                                },
                                {
                                    "SZOBA_FK": "107",
                                    "foglalasok_szama": "5"
                                },
                                {
                                    "SZOBA_FK": "108",
                                    "foglalasok_szama": "2"
                                },
                                {
                                    "SZOBA_FK": "109",
                                    "foglalasok_szama": "7"
                                },
                                {
                                    "SZOBA_FK": "110",
                                    "foglalasok_szama": "8"
                                },
                                {
                                    "SZOBA_FK": "111",
                                    "foglalasok_szama": "5"
                                },
                                {
                                    "SZOBA_FK": "112",
                                    "foglalasok_szama": "5"
                                },
                                {
                                    "SZOBA_FK": "113",
                                    "foglalasok_szama": "5"
                                },
                                {
                                    "SZOBA_FK": "114",
                                    "foglalasok_szama": "4"
                                },
                                {
                                    "SZOBA_FK": "115",
                                    "foglalasok_szama": "7"
                                },
                                {
                                    "SZOBA_FK": "116",
                                    "foglalasok_szama": "2"
                                },
                                {
                                    "SZOBA_FK": "117",
                                    "foglalasok_szama": "8"
                                },
                                {
                                    "SZOBA_FK": "118",
                                    "foglalasok_szama": "7"
                                },
                                {
                                    "SZOBA_FK": "119",
                                    "foglalasok_szama": "5"
                                },
                                {
                                    "SZOBA_FK": "120",
                                    "foglalasok_szama": "6"
                                },
                                {
                                    "SZOBA_FK": "121",
                                    "foglalasok_szama": "8"
                                },
                                {
                                    "SZOBA_FK": "122",
                                    "foglalasok_szama": "9"
                                },
                                {
                                    "SZOBA_FK": "123",
                                    "foglalasok_szama": "5"
                                },
                                {
                                    "SZOBA_FK": "124",
                                    "foglalasok_szama": "6"
                                },
                                {
                                    "SZOBA_FK": "125",
                                    "foglalasok_szama": "1"
                                },
                                {
                                    "SZOBA_FK": "126",
                                    "foglalasok_szama": "6"
                                },
                                {
                                    "SZOBA_FK": "127",
                                    "foglalasok_szama": "7"
                                },
                                {
                                    "SZOBA_FK": "128",
                                    "foglalasok_szama": "5"
                                },
                                {
                                    "SZOBA_FK": "129",
                                    "foglalasok_szama": "4"
                                },
                                {
                                    "SZOBA_FK": "130",
                                    "foglalasok_szama": "6"
                                },
                                {
                                    "SZOBA_FK": "131",
                                    "foglalasok_szama": "5"
                                },
                                {
                                    "SZOBA_FK": "132",
                                    "foglalasok_szama": "6"
                                },
                                {
                                    "SZOBA_FK": "133",
                                    "foglalasok_szama": "6"
                                },
                                {
                                    "SZOBA_FK": "134",
                                    "foglalasok_szama": "6"
                                },
                                {
                                    "SZOBA_FK": "135",
                                    "foglalasok_szama": "3"
                                },
                                {
                                    "SZOBA_FK": "136",
                                    "foglalasok_szama": "3"
                                },
                                {
                                    "SZOBA_FK": "137",
                                    "foglalasok_szama": "6"
                                },
                                {
                                    "SZOBA_FK": "138",
                                    "foglalasok_szama": "7"
                                },
                                {
                                    "SZOBA_FK": "139",
                                    "foglalasok_szama": "7"
                                },
                                {
                                    "SZOBA_FK": "140",
                                    "foglalasok_szama": "8"
                                },
                                {
                                    "SZOBA_FK": "141",
                                    "foglalasok_szama": "6"
                                },
                                {
                                    "SZOBA_FK": "142",
                                    "foglalasok_szama": "2"
                                },
                                {
                                    "SZOBA_FK": "143",
                                    "foglalasok_szama": "7"
                                },
                                {
                                    "SZOBA_FK": "144",
                                    "foglalasok_szama": "5"
                                },
                                {
                                    "SZOBA_FK": "145",
                                    "foglalasok_szama": "6"
                                },
                                {
                                    "SZOBA_FK": "146",
                                    "foglalasok_szama": "6"
                                },
                                {
                                    "SZOBA_FK": "147",
                                    "foglalasok_szama": "1"
                                },
                                {
                                    "SZOBA_FK": "148",
                                    "foglalasok_szama": "6"
                                },
                                {
                                    "SZOBA_FK": "149",
                                    "foglalasok_szama": "7"
                                },
                                {
                                    "SZOBA_FK": "150",
                                    "foglalasok_szama": "6"
                                },
                                {
                                    "SZOBA_FK": "151",
                                    "foglalasok_szama": "3"
                                },
                                {
                                    "SZOBA_FK": "152",
                                    "foglalasok_szama": "4"
                                },
                                {
                                    "SZOBA_FK": "153",
                                    "foglalasok_szama": "5"
                                },
                                {
                                    "SZOBA_FK": "154",
                                    "foglalasok_szama": "5"
                                },
                                {
                                    "SZOBA_FK": "155",
                                    "foglalasok_szama": "5"
                                },
                                {
                                    "SZOBA_FK": "156",
                                    "foglalasok_szama": "7"
                                },
                                {
                                    "SZOBA_FK": "157",
                                    "foglalasok_szama": "5"
                                },
                                {
                                    "SZOBA_FK": "158",
                                    "foglalasok_szama": "3"
                                },
                                {
                                    "SZOBA_FK": "160",
                                    "foglalasok_szama": "5"
                                },
                                {
                                    "SZOBA_FK": "161",
                                    "foglalasok_szama": "6"
                                },
                                {
                                    "SZOBA_FK": "162",
                                    "foglalasok_szama": "3"
                                },
                                {
                                    "SZOBA_FK": "163",
                                    "foglalasok_szama": "7"
                                },
                                {
                                    "SZOBA_FK": "164",
                                    "foglalasok_szama": "5"
                                },
                                {
                                    "SZOBA_FK": "165",
                                    "foglalasok_szama": "7"
                                },
                                {
                                    "SZOBA_FK": "166",
                                    "foglalasok_szama": "3"
                                },
                                {
                                    "SZOBA_FK": "167",
                                    "foglalasok_szama": "2"
                                },
                                {
                                    "SZOBA_FK": "168",
                                    "foglalasok_szama": "5"
                                },
                                {
                                    "SZOBA_FK": "169",
                                    "foglalasok_szama": "6"
                                },
                                {
                                    "SZOBA_FK": "170",
                                    "foglalasok_szama": "5"
                                },
                                {
                                    "SZOBA_FK": "171",
                                    "foglalasok_szama": "5"
                                },
                                {
                                    "SZOBA_FK": "172",
                                    "foglalasok_szama": "9"
                                },
                                {
                                    "SZOBA_FK": "173",
                                    "foglalasok_szama": "4"
                                },
                                {
                                    "SZOBA_FK": "174",
                                    "foglalasok_szama": "4"
                                },
                                {
                                    "SZOBA_FK": "175",
                                    "foglalasok_szama": "5"
                                },
                                {
                                    "SZOBA_FK": "176",
                                    "foglalasok_szama": "6"
                                },
                                {
                                    "SZOBA_FK": "177",
                                    "foglalasok_szama": "4"
                                },
                                {
                                    "SZOBA_FK": "178",
                                    "foglalasok_szama": "4"
                                },
                                {
                                    "SZOBA_FK": "179",
                                    "foglalasok_szama": "3"
                                },
                                {
                                    "SZOBA_FK": "180",
                                    "foglalasok_szama": "3"
                                },
                                {
                                    "SZOBA_FK": "181",
                                    "foglalasok_szama": "6"
                                },
                                {
                                    "SZOBA_FK": "182",
                                    "foglalasok_szama": "12"
                                },
                                {
                                    "SZOBA_FK": "183",
                                    "foglalasok_szama": "4"
                                },
                                {
                                    "SZOBA_FK": "184",
                                    "foglalasok_szama": "4"
                                },
                                {
                                    "SZOBA_FK": "185",
                                    "foglalasok_szama": "12"
                                },
                                {
                                    "SZOBA_FK": "186",
                                    "foglalasok_szama": "4"
                                },
                                {
                                    "SZOBA_FK": "187",
                                    "foglalasok_szama": "7"
                                },
                                {
                                    "SZOBA_FK": "188",
                                    "foglalasok_szama": "6"
                                },
                                {
                                    "SZOBA_FK": "189",
                                    "foglalasok_szama": "5"
                                },
                                {
                                    "SZOBA_FK": "190",
                                    "foglalasok_szama": "5"
                                },
                                {
                                    "SZOBA_FK": "191",
                                    "foglalasok_szama": "5"
                                },
                                {
                                    "SZOBA_FK": "192",
                                    "foglalasok_szama": "2"
                                },
                                {
                                    "SZOBA_FK": "193",
                                    "foglalasok_szama": "7"
                                },
                                {
                                    "SZOBA_FK": "194",
                                    "foglalasok_szama": "1"
                                },
                                {
                                    "SZOBA_FK": "195",
                                    "foglalasok_szama": "6"
                                },
                                {
                                    "SZOBA_FK": "196",
                                    "foglalasok_szama": "4"
                                },
                                {
                                    "SZOBA_FK": "197",
                                    "foglalasok_szama": "6"
                                },
                                {
                                    "SZOBA_FK": "198",
                                    "foglalasok_szama": "8"
                                },
                                {
                                    "SZOBA_FK": "NULL",
                                    "foglalasok_szama": "1027"
                                }
                            ]
                        },
                        "text/html": [
                            "<table>",
                            "<tr><th>SZOBA_FK</th><th>foglalasok_szama</th></tr>",
                            "<tr><td>1</td><td>8</td></tr>",
                            "<tr><td>2</td><td>4</td></tr>",
                            "<tr><td>3</td><td>8</td></tr>",
                            "<tr><td>4</td><td>6</td></tr>",
                            "<tr><td>5</td><td>4</td></tr>",
                            "<tr><td>6</td><td>6</td></tr>",
                            "<tr><td>7</td><td>6</td></tr>",
                            "<tr><td>8</td><td>5</td></tr>",
                            "<tr><td>9</td><td>6</td></tr>",
                            "<tr><td>10</td><td>4</td></tr>",
                            "<tr><td>11</td><td>4</td></tr>",
                            "<tr><td>12</td><td>9</td></tr>",
                            "<tr><td>13</td><td>4</td></tr>",
                            "<tr><td>14</td><td>3</td></tr>",
                            "<tr><td>15</td><td>6</td></tr>",
                            "<tr><td>16</td><td>5</td></tr>",
                            "<tr><td>17</td><td>6</td></tr>",
                            "<tr><td>18</td><td>6</td></tr>",
                            "<tr><td>19</td><td>6</td></tr>",
                            "<tr><td>20</td><td>5</td></tr>",
                            "<tr><td>21</td><td>4</td></tr>",
                            "<tr><td>22</td><td>6</td></tr>",
                            "<tr><td>23</td><td>3</td></tr>",
                            "<tr><td>24</td><td>3</td></tr>",
                            "<tr><td>25</td><td>2</td></tr>",
                            "<tr><td>26</td><td>2</td></tr>",
                            "<tr><td>27</td><td>7</td></tr>",
                            "<tr><td>28</td><td>6</td></tr>",
                            "<tr><td>29</td><td>6</td></tr>",
                            "<tr><td>30</td><td>3</td></tr>",
                            "<tr><td>31</td><td>3</td></tr>",
                            "<tr><td>32</td><td>1</td></tr>",
                            "<tr><td>33</td><td>6</td></tr>",
                            "<tr><td>34</td><td>4</td></tr>",
                            "<tr><td>35</td><td>9</td></tr>",
                            "<tr><td>36</td><td>6</td></tr>",
                            "<tr><td>37</td><td>3</td></tr>",
                            "<tr><td>38</td><td>8</td></tr>",
                            "<tr><td>39</td><td>7</td></tr>",
                            "<tr><td>40</td><td>4</td></tr>",
                            "<tr><td>41</td><td>2</td></tr>",
                            "<tr><td>42</td><td>6</td></tr>",
                            "<tr><td>43</td><td>8</td></tr>",
                            "<tr><td>44</td><td>6</td></tr>",
                            "<tr><td>45</td><td>5</td></tr>",
                            "<tr><td>46</td><td>4</td></tr>",
                            "<tr><td>47</td><td>2</td></tr>",
                            "<tr><td>48</td><td>9</td></tr>",
                            "<tr><td>49</td><td>7</td></tr>",
                            "<tr><td>50</td><td>4</td></tr>",
                            "<tr><td>51</td><td>5</td></tr>",
                            "<tr><td>52</td><td>5</td></tr>",
                            "<tr><td>53</td><td>2</td></tr>",
                            "<tr><td>54</td><td>6</td></tr>",
                            "<tr><td>55</td><td>8</td></tr>",
                            "<tr><td>56</td><td>2</td></tr>",
                            "<tr><td>57</td><td>4</td></tr>",
                            "<tr><td>58</td><td>13</td></tr>",
                            "<tr><td>59</td><td>7</td></tr>",
                            "<tr><td>60</td><td>1</td></tr>",
                            "<tr><td>61</td><td>5</td></tr>",
                            "<tr><td>62</td><td>5</td></tr>",
                            "<tr><td>63</td><td>4</td></tr>",
                            "<tr><td>64</td><td>6</td></tr>",
                            "<tr><td>65</td><td>1</td></tr>",
                            "<tr><td>66</td><td>4</td></tr>",
                            "<tr><td>67</td><td>6</td></tr>",
                            "<tr><td>68</td><td>3</td></tr>",
                            "<tr><td>69</td><td>4</td></tr>",
                            "<tr><td>70</td><td>11</td></tr>",
                            "<tr><td>71</td><td>3</td></tr>",
                            "<tr><td>72</td><td>4</td></tr>",
                            "<tr><td>73</td><td>4</td></tr>",
                            "<tr><td>74</td><td>9</td></tr>",
                            "<tr><td>75</td><td>3</td></tr>",
                            "<tr><td>76</td><td>3</td></tr>",
                            "<tr><td>77</td><td>6</td></tr>",
                            "<tr><td>78</td><td>6</td></tr>",
                            "<tr><td>79</td><td>5</td></tr>",
                            "<tr><td>80</td><td>7</td></tr>",
                            "<tr><td>81</td><td>5</td></tr>",
                            "<tr><td>82</td><td>6</td></tr>",
                            "<tr><td>83</td><td>8</td></tr>",
                            "<tr><td>84</td><td>4</td></tr>",
                            "<tr><td>85</td><td>4</td></tr>",
                            "<tr><td>86</td><td>5</td></tr>",
                            "<tr><td>87</td><td>5</td></tr>",
                            "<tr><td>88</td><td>8</td></tr>",
                            "<tr><td>89</td><td>8</td></tr>",
                            "<tr><td>90</td><td>4</td></tr>",
                            "<tr><td>91</td><td>4</td></tr>",
                            "<tr><td>92</td><td>6</td></tr>",
                            "<tr><td>93</td><td>5</td></tr>",
                            "<tr><td>94</td><td>10</td></tr>",
                            "<tr><td>95</td><td>4</td></tr>",
                            "<tr><td>96</td><td>7</td></tr>",
                            "<tr><td>97</td><td>7</td></tr>",
                            "<tr><td>98</td><td>4</td></tr>",
                            "<tr><td>99</td><td>5</td></tr>",
                            "<tr><td>100</td><td>4</td></tr>",
                            "<tr><td>101</td><td>3</td></tr>",
                            "<tr><td>102</td><td>2</td></tr>",
                            "<tr><td>103</td><td>4</td></tr>",
                            "<tr><td>104</td><td>4</td></tr>",
                            "<tr><td>105</td><td>2</td></tr>",
                            "<tr><td>106</td><td>6</td></tr>",
                            "<tr><td>107</td><td>5</td></tr>",
                            "<tr><td>108</td><td>2</td></tr>",
                            "<tr><td>109</td><td>7</td></tr>",
                            "<tr><td>110</td><td>8</td></tr>",
                            "<tr><td>111</td><td>5</td></tr>",
                            "<tr><td>112</td><td>5</td></tr>",
                            "<tr><td>113</td><td>5</td></tr>",
                            "<tr><td>114</td><td>4</td></tr>",
                            "<tr><td>115</td><td>7</td></tr>",
                            "<tr><td>116</td><td>2</td></tr>",
                            "<tr><td>117</td><td>8</td></tr>",
                            "<tr><td>118</td><td>7</td></tr>",
                            "<tr><td>119</td><td>5</td></tr>",
                            "<tr><td>120</td><td>6</td></tr>",
                            "<tr><td>121</td><td>8</td></tr>",
                            "<tr><td>122</td><td>9</td></tr>",
                            "<tr><td>123</td><td>5</td></tr>",
                            "<tr><td>124</td><td>6</td></tr>",
                            "<tr><td>125</td><td>1</td></tr>",
                            "<tr><td>126</td><td>6</td></tr>",
                            "<tr><td>127</td><td>7</td></tr>",
                            "<tr><td>128</td><td>5</td></tr>",
                            "<tr><td>129</td><td>4</td></tr>",
                            "<tr><td>130</td><td>6</td></tr>",
                            "<tr><td>131</td><td>5</td></tr>",
                            "<tr><td>132</td><td>6</td></tr>",
                            "<tr><td>133</td><td>6</td></tr>",
                            "<tr><td>134</td><td>6</td></tr>",
                            "<tr><td>135</td><td>3</td></tr>",
                            "<tr><td>136</td><td>3</td></tr>",
                            "<tr><td>137</td><td>6</td></tr>",
                            "<tr><td>138</td><td>7</td></tr>",
                            "<tr><td>139</td><td>7</td></tr>",
                            "<tr><td>140</td><td>8</td></tr>",
                            "<tr><td>141</td><td>6</td></tr>",
                            "<tr><td>142</td><td>2</td></tr>",
                            "<tr><td>143</td><td>7</td></tr>",
                            "<tr><td>144</td><td>5</td></tr>",
                            "<tr><td>145</td><td>6</td></tr>",
                            "<tr><td>146</td><td>6</td></tr>",
                            "<tr><td>147</td><td>1</td></tr>",
                            "<tr><td>148</td><td>6</td></tr>",
                            "<tr><td>149</td><td>7</td></tr>",
                            "<tr><td>150</td><td>6</td></tr>",
                            "<tr><td>151</td><td>3</td></tr>",
                            "<tr><td>152</td><td>4</td></tr>",
                            "<tr><td>153</td><td>5</td></tr>",
                            "<tr><td>154</td><td>5</td></tr>",
                            "<tr><td>155</td><td>5</td></tr>",
                            "<tr><td>156</td><td>7</td></tr>",
                            "<tr><td>157</td><td>5</td></tr>",
                            "<tr><td>158</td><td>3</td></tr>",
                            "<tr><td>160</td><td>5</td></tr>",
                            "<tr><td>161</td><td>6</td></tr>",
                            "<tr><td>162</td><td>3</td></tr>",
                            "<tr><td>163</td><td>7</td></tr>",
                            "<tr><td>164</td><td>5</td></tr>",
                            "<tr><td>165</td><td>7</td></tr>",
                            "<tr><td>166</td><td>3</td></tr>",
                            "<tr><td>167</td><td>2</td></tr>",
                            "<tr><td>168</td><td>5</td></tr>",
                            "<tr><td>169</td><td>6</td></tr>",
                            "<tr><td>170</td><td>5</td></tr>",
                            "<tr><td>171</td><td>5</td></tr>",
                            "<tr><td>172</td><td>9</td></tr>",
                            "<tr><td>173</td><td>4</td></tr>",
                            "<tr><td>174</td><td>4</td></tr>",
                            "<tr><td>175</td><td>5</td></tr>",
                            "<tr><td>176</td><td>6</td></tr>",
                            "<tr><td>177</td><td>4</td></tr>",
                            "<tr><td>178</td><td>4</td></tr>",
                            "<tr><td>179</td><td>3</td></tr>",
                            "<tr><td>180</td><td>3</td></tr>",
                            "<tr><td>181</td><td>6</td></tr>",
                            "<tr><td>182</td><td>12</td></tr>",
                            "<tr><td>183</td><td>4</td></tr>",
                            "<tr><td>184</td><td>4</td></tr>",
                            "<tr><td>185</td><td>12</td></tr>",
                            "<tr><td>186</td><td>4</td></tr>",
                            "<tr><td>187</td><td>7</td></tr>",
                            "<tr><td>188</td><td>6</td></tr>",
                            "<tr><td>189</td><td>5</td></tr>",
                            "<tr><td>190</td><td>5</td></tr>",
                            "<tr><td>191</td><td>5</td></tr>",
                            "<tr><td>192</td><td>2</td></tr>",
                            "<tr><td>193</td><td>7</td></tr>",
                            "<tr><td>194</td><td>1</td></tr>",
                            "<tr><td>195</td><td>6</td></tr>",
                            "<tr><td>196</td><td>4</td></tr>",
                            "<tr><td>197</td><td>6</td></tr>",
                            "<tr><td>198</td><td>8</td></tr>",
                            "<tr><td>NULL</td><td>1027</td></tr>",
                            "</table>"
                        ]
                    }
                }
            ],
            "execution_count": 11
        },
        {
            "cell_type": "markdown",
            "source": [
                "# **2\\. feladat**"
            ],
            "metadata": {
                "language": "sql",
                "azdata_cell_guid": "9c0765b7-b0a6-4524-b057-0da59106710e"
            },
            "attachments": {}
        },
        {
            "cell_type": "code",
            "source": [
                "SELECT SZOBA_FK, FEROHELY, DENSE_RANK() OVER (ORDER BY COUNT(*) DESC, FEROHELY ASC) AS Hanyadik\n",
                "FROM Foglalas f\n",
                "JOIN Szoba s ON f.SZOBA_FK = s.SZOBA_ID\n",
                "\n",
                "GROUP BY SZOBA_FK, FEROHELY"
            ],
            "metadata": {
                "azdata_cell_guid": "cdcbc490-88a7-42d4-b339-3b88963680f8",
                "language": "sql",
                "tags": []
            },
            "outputs": [
                {
                    "output_type": "display_data",
                    "data": {
                        "text/html": "(197 rows affected)"
                    },
                    "metadata": {}
                },
                {
                    "output_type": "display_data",
                    "data": {
                        "text/html": "Total execution time: 00:00:00.012"
                    },
                    "metadata": {}
                },
                {
                    "output_type": "execute_result",
                    "metadata": {},
                    "execution_count": 10,
                    "data": {
                        "application/vnd.dataresource+json": {
                            "schema": {
                                "fields": [
                                    {
                                        "name": "SZOBA_FK"
                                    },
                                    {
                                        "name": "FEROHELY"
                                    },
                                    {
                                        "name": "Hanyadik"
                                    }
                                ]
                            },
                            "data": [
                                {
                                    "SZOBA_FK": "58",
                                    "FEROHELY": "2",
                                    "Hanyadik": "1"
                                },
                                {
                                    "SZOBA_FK": "182",
                                    "FEROHELY": "2",
                                    "Hanyadik": "2"
                                },
                                {
                                    "SZOBA_FK": "185",
                                    "FEROHELY": "3",
                                    "Hanyadik": "3"
                                },
                                {
                                    "SZOBA_FK": "70",
                                    "FEROHELY": "2",
                                    "Hanyadik": "4"
                                },
                                {
                                    "SZOBA_FK": "94",
                                    "FEROHELY": "2",
                                    "Hanyadik": "5"
                                },
                                {
                                    "SZOBA_FK": "12",
                                    "FEROHELY": "2",
                                    "Hanyadik": "6"
                                },
                                {
                                    "SZOBA_FK": "172",
                                    "FEROHELY": "2",
                                    "Hanyadik": "6"
                                },
                                {
                                    "SZOBA_FK": "35",
                                    "FEROHELY": "3",
                                    "Hanyadik": "7"
                                },
                                {
                                    "SZOBA_FK": "48",
                                    "FEROHELY": "3",
                                    "Hanyadik": "7"
                                },
                                {
                                    "SZOBA_FK": "74",
                                    "FEROHELY": "3",
                                    "Hanyadik": "7"
                                },
                                {
                                    "SZOBA_FK": "122",
                                    "FEROHELY": "3",
                                    "Hanyadik": "7"
                                },
                                {
                                    "SZOBA_FK": "121",
                                    "FEROHELY": "2",
                                    "Hanyadik": "8"
                                },
                                {
                                    "SZOBA_FK": "140",
                                    "FEROHELY": "2",
                                    "Hanyadik": "8"
                                },
                                {
                                    "SZOBA_FK": "110",
                                    "FEROHELY": "2",
                                    "Hanyadik": "8"
                                },
                                {
                                    "SZOBA_FK": "55",
                                    "FEROHELY": "2",
                                    "Hanyadik": "8"
                                },
                                {
                                    "SZOBA_FK": "38",
                                    "FEROHELY": "2",
                                    "Hanyadik": "8"
                                },
                                {
                                    "SZOBA_FK": "1",
                                    "FEROHELY": "3",
                                    "Hanyadik": "9"
                                },
                                {
                                    "SZOBA_FK": "3",
                                    "FEROHELY": "3",
                                    "Hanyadik": "9"
                                },
                                {
                                    "SZOBA_FK": "43",
                                    "FEROHELY": "3",
                                    "Hanyadik": "9"
                                },
                                {
                                    "SZOBA_FK": "83",
                                    "FEROHELY": "3",
                                    "Hanyadik": "9"
                                },
                                {
                                    "SZOBA_FK": "88",
                                    "FEROHELY": "3",
                                    "Hanyadik": "9"
                                },
                                {
                                    "SZOBA_FK": "89",
                                    "FEROHELY": "3",
                                    "Hanyadik": "9"
                                },
                                {
                                    "SZOBA_FK": "117",
                                    "FEROHELY": "3",
                                    "Hanyadik": "9"
                                },
                                {
                                    "SZOBA_FK": "198",
                                    "FEROHELY": "3",
                                    "Hanyadik": "9"
                                },
                                {
                                    "SZOBA_FK": "149",
                                    "FEROHELY": "2",
                                    "Hanyadik": "10"
                                },
                                {
                                    "SZOBA_FK": "156",
                                    "FEROHELY": "2",
                                    "Hanyadik": "10"
                                },
                                {
                                    "SZOBA_FK": "163",
                                    "FEROHELY": "2",
                                    "Hanyadik": "10"
                                },
                                {
                                    "SZOBA_FK": "165",
                                    "FEROHELY": "2",
                                    "Hanyadik": "10"
                                },
                                {
                                    "SZOBA_FK": "118",
                                    "FEROHELY": "2",
                                    "Hanyadik": "10"
                                },
                                {
                                    "SZOBA_FK": "109",
                                    "FEROHELY": "2",
                                    "Hanyadik": "10"
                                },
                                {
                                    "SZOBA_FK": "127",
                                    "FEROHELY": "2",
                                    "Hanyadik": "10"
                                },
                                {
                                    "SZOBA_FK": "139",
                                    "FEROHELY": "2",
                                    "Hanyadik": "10"
                                },
                                {
                                    "SZOBA_FK": "80",
                                    "FEROHELY": "2",
                                    "Hanyadik": "10"
                                },
                                {
                                    "SZOBA_FK": "59",
                                    "FEROHELY": "2",
                                    "Hanyadik": "10"
                                },
                                {
                                    "SZOBA_FK": "39",
                                    "FEROHELY": "2",
                                    "Hanyadik": "10"
                                },
                                {
                                    "SZOBA_FK": "27",
                                    "FEROHELY": "3",
                                    "Hanyadik": "11"
                                },
                                {
                                    "SZOBA_FK": "49",
                                    "FEROHELY": "3",
                                    "Hanyadik": "11"
                                },
                                {
                                    "SZOBA_FK": "96",
                                    "FEROHELY": "3",
                                    "Hanyadik": "11"
                                },
                                {
                                    "SZOBA_FK": "97",
                                    "FEROHELY": "3",
                                    "Hanyadik": "11"
                                },
                                {
                                    "SZOBA_FK": "138",
                                    "FEROHELY": "3",
                                    "Hanyadik": "11"
                                },
                                {
                                    "SZOBA_FK": "143",
                                    "FEROHELY": "3",
                                    "Hanyadik": "11"
                                },
                                {
                                    "SZOBA_FK": "115",
                                    "FEROHELY": "3",
                                    "Hanyadik": "11"
                                },
                                {
                                    "SZOBA_FK": "187",
                                    "FEROHELY": "3",
                                    "Hanyadik": "11"
                                },
                                {
                                    "SZOBA_FK": "193",
                                    "FEROHELY": "3",
                                    "Hanyadik": "11"
                                },
                                {
                                    "SZOBA_FK": "195",
                                    "FEROHELY": "2",
                                    "Hanyadik": "12"
                                },
                                {
                                    "SZOBA_FK": "161",
                                    "FEROHELY": "2",
                                    "Hanyadik": "12"
                                },
                                {
                                    "SZOBA_FK": "150",
                                    "FEROHELY": "2",
                                    "Hanyadik": "12"
                                },
                                {
                                    "SZOBA_FK": "148",
                                    "FEROHELY": "2",
                                    "Hanyadik": "12"
                                },
                                {
                                    "SZOBA_FK": "169",
                                    "FEROHELY": "2",
                                    "Hanyadik": "12"
                                },
                                {
                                    "SZOBA_FK": "106",
                                    "FEROHELY": "2",
                                    "Hanyadik": "12"
                                },
                                {
                                    "SZOBA_FK": "126",
                                    "FEROHELY": "2",
                                    "Hanyadik": "12"
                                },
                                {
                                    "SZOBA_FK": "145",
                                    "FEROHELY": "2",
                                    "Hanyadik": "12"
                                },
                                {
                                    "SZOBA_FK": "141",
                                    "FEROHELY": "2",
                                    "Hanyadik": "12"
                                },
                                {
                                    "SZOBA_FK": "130",
                                    "FEROHELY": "2",
                                    "Hanyadik": "12"
                                },
                                {
                                    "SZOBA_FK": "137",
                                    "FEROHELY": "2",
                                    "Hanyadik": "12"
                                },
                                {
                                    "SZOBA_FK": "78",
                                    "FEROHELY": "2",
                                    "Hanyadik": "12"
                                },
                                {
                                    "SZOBA_FK": "42",
                                    "FEROHELY": "2",
                                    "Hanyadik": "12"
                                },
                                {
                                    "SZOBA_FK": "64",
                                    "FEROHELY": "2",
                                    "Hanyadik": "12"
                                },
                                {
                                    "SZOBA_FK": "67",
                                    "FEROHELY": "2",
                                    "Hanyadik": "12"
                                },
                                {
                                    "SZOBA_FK": "28",
                                    "FEROHELY": "2",
                                    "Hanyadik": "12"
                                },
                                {
                                    "SZOBA_FK": "29",
                                    "FEROHELY": "2",
                                    "Hanyadik": "12"
                                },
                                {
                                    "SZOBA_FK": "19",
                                    "FEROHELY": "2",
                                    "Hanyadik": "12"
                                },
                                {
                                    "SZOBA_FK": "33",
                                    "FEROHELY": "2",
                                    "Hanyadik": "12"
                                },
                                {
                                    "SZOBA_FK": "4",
                                    "FEROHELY": "2",
                                    "Hanyadik": "12"
                                },
                                {
                                    "SZOBA_FK": "7",
                                    "FEROHELY": "2",
                                    "Hanyadik": "12"
                                },
                                {
                                    "SZOBA_FK": "15",
                                    "FEROHELY": "2",
                                    "Hanyadik": "12"
                                },
                                {
                                    "SZOBA_FK": "17",
                                    "FEROHELY": "3",
                                    "Hanyadik": "13"
                                },
                                {
                                    "SZOBA_FK": "18",
                                    "FEROHELY": "3",
                                    "Hanyadik": "13"
                                },
                                {
                                    "SZOBA_FK": "6",
                                    "FEROHELY": "3",
                                    "Hanyadik": "13"
                                },
                                {
                                    "SZOBA_FK": "9",
                                    "FEROHELY": "3",
                                    "Hanyadik": "13"
                                },
                                {
                                    "SZOBA_FK": "22",
                                    "FEROHELY": "3",
                                    "Hanyadik": "13"
                                },
                                {
                                    "SZOBA_FK": "36",
                                    "FEROHELY": "3",
                                    "Hanyadik": "13"
                                },
                                {
                                    "SZOBA_FK": "44",
                                    "FEROHELY": "3",
                                    "Hanyadik": "13"
                                },
                                {
                                    "SZOBA_FK": "54",
                                    "FEROHELY": "3",
                                    "Hanyadik": "13"
                                },
                                {
                                    "SZOBA_FK": "77",
                                    "FEROHELY": "3",
                                    "Hanyadik": "13"
                                },
                                {
                                    "SZOBA_FK": "82",
                                    "FEROHELY": "3",
                                    "Hanyadik": "13"
                                },
                                {
                                    "SZOBA_FK": "92",
                                    "FEROHELY": "3",
                                    "Hanyadik": "13"
                                },
                                {
                                    "SZOBA_FK": "132",
                                    "FEROHELY": "3",
                                    "Hanyadik": "13"
                                },
                                {
                                    "SZOBA_FK": "133",
                                    "FEROHELY": "3",
                                    "Hanyadik": "13"
                                },
                                {
                                    "SZOBA_FK": "134",
                                    "FEROHELY": "3",
                                    "Hanyadik": "13"
                                },
                                {
                                    "SZOBA_FK": "146",
                                    "FEROHELY": "3",
                                    "Hanyadik": "13"
                                },
                                {
                                    "SZOBA_FK": "124",
                                    "FEROHELY": "3",
                                    "Hanyadik": "13"
                                },
                                {
                                    "SZOBA_FK": "120",
                                    "FEROHELY": "3",
                                    "Hanyadik": "13"
                                },
                                {
                                    "SZOBA_FK": "176",
                                    "FEROHELY": "3",
                                    "Hanyadik": "13"
                                },
                                {
                                    "SZOBA_FK": "181",
                                    "FEROHELY": "3",
                                    "Hanyadik": "13"
                                },
                                {
                                    "SZOBA_FK": "188",
                                    "FEROHELY": "3",
                                    "Hanyadik": "13"
                                },
                                {
                                    "SZOBA_FK": "197",
                                    "FEROHELY": "3",
                                    "Hanyadik": "13"
                                },
                                {
                                    "SZOBA_FK": "189",
                                    "FEROHELY": "2",
                                    "Hanyadik": "14"
                                },
                                {
                                    "SZOBA_FK": "190",
                                    "FEROHELY": "2",
                                    "Hanyadik": "14"
                                },
                                {
                                    "SZOBA_FK": "191",
                                    "FEROHELY": "2",
                                    "Hanyadik": "14"
                                },
                                {
                                    "SZOBA_FK": "168",
                                    "FEROHELY": "2",
                                    "Hanyadik": "14"
                                },
                                {
                                    "SZOBA_FK": "175",
                                    "FEROHELY": "2",
                                    "Hanyadik": "14"
                                },
                                {
                                    "SZOBA_FK": "170",
                                    "FEROHELY": "2",
                                    "Hanyadik": "14"
                                },
                                {
                                    "SZOBA_FK": "171",
                                    "FEROHELY": "2",
                                    "Hanyadik": "14"
                                },
                                {
                                    "SZOBA_FK": "157",
                                    "FEROHELY": "2",
                                    "Hanyadik": "14"
                                },
                                {
                                    "SZOBA_FK": "154",
                                    "FEROHELY": "2",
                                    "Hanyadik": "14"
                                },
                                {
                                    "SZOBA_FK": "164",
                                    "FEROHELY": "2",
                                    "Hanyadik": "14"
                                },
                                {
                                    "SZOBA_FK": "119",
                                    "FEROHELY": "2",
                                    "Hanyadik": "14"
                                },
                                {
                                    "SZOBA_FK": "107",
                                    "FEROHELY": "2",
                                    "Hanyadik": "14"
                                },
                                {
                                    "SZOBA_FK": "128",
                                    "FEROHELY": "2",
                                    "Hanyadik": "14"
                                },
                                {
                                    "SZOBA_FK": "131",
                                    "FEROHELY": "2",
                                    "Hanyadik": "14"
                                },
                                {
                                    "SZOBA_FK": "99",
                                    "FEROHELY": "2",
                                    "Hanyadik": "14"
                                },
                                {
                                    "SZOBA_FK": "111",
                                    "FEROHELY": "2",
                                    "Hanyadik": "14"
                                },
                                {
                                    "SZOBA_FK": "81",
                                    "FEROHELY": "2",
                                    "Hanyadik": "14"
                                },
                                {
                                    "SZOBA_FK": "86",
                                    "FEROHELY": "2",
                                    "Hanyadik": "14"
                                },
                                {
                                    "SZOBA_FK": "52",
                                    "FEROHELY": "2",
                                    "Hanyadik": "14"
                                },
                                {
                                    "SZOBA_FK": "45",
                                    "FEROHELY": "2",
                                    "Hanyadik": "14"
                                },
                                {
                                    "SZOBA_FK": "62",
                                    "FEROHELY": "2",
                                    "Hanyadik": "14"
                                },
                                {
                                    "SZOBA_FK": "61",
                                    "FEROHELY": "3",
                                    "Hanyadik": "15"
                                },
                                {
                                    "SZOBA_FK": "51",
                                    "FEROHELY": "3",
                                    "Hanyadik": "15"
                                },
                                {
                                    "SZOBA_FK": "20",
                                    "FEROHELY": "3",
                                    "Hanyadik": "15"
                                },
                                {
                                    "SZOBA_FK": "8",
                                    "FEROHELY": "3",
                                    "Hanyadik": "15"
                                },
                                {
                                    "SZOBA_FK": "16",
                                    "FEROHELY": "3",
                                    "Hanyadik": "15"
                                },
                                {
                                    "SZOBA_FK": "87",
                                    "FEROHELY": "3",
                                    "Hanyadik": "15"
                                },
                                {
                                    "SZOBA_FK": "79",
                                    "FEROHELY": "3",
                                    "Hanyadik": "15"
                                },
                                {
                                    "SZOBA_FK": "112",
                                    "FEROHELY": "3",
                                    "Hanyadik": "15"
                                },
                                {
                                    "SZOBA_FK": "113",
                                    "FEROHELY": "3",
                                    "Hanyadik": "15"
                                },
                                {
                                    "SZOBA_FK": "93",
                                    "FEROHELY": "3",
                                    "Hanyadik": "15"
                                },
                                {
                                    "SZOBA_FK": "144",
                                    "FEROHELY": "3",
                                    "Hanyadik": "15"
                                },
                                {
                                    "SZOBA_FK": "123",
                                    "FEROHELY": "3",
                                    "Hanyadik": "15"
                                },
                                {
                                    "SZOBA_FK": "153",
                                    "FEROHELY": "3",
                                    "Hanyadik": "15"
                                },
                                {
                                    "SZOBA_FK": "160",
                                    "FEROHELY": "3",
                                    "Hanyadik": "15"
                                },
                                {
                                    "SZOBA_FK": "155",
                                    "FEROHELY": "3",
                                    "Hanyadik": "15"
                                },
                                {
                                    "SZOBA_FK": "152",
                                    "FEROHELY": "2",
                                    "Hanyadik": "16"
                                },
                                {
                                    "SZOBA_FK": "173",
                                    "FEROHELY": "2",
                                    "Hanyadik": "16"
                                },
                                {
                                    "SZOBA_FK": "174",
                                    "FEROHELY": "2",
                                    "Hanyadik": "16"
                                },
                                {
                                    "SZOBA_FK": "186",
                                    "FEROHELY": "2",
                                    "Hanyadik": "16"
                                },
                                {
                                    "SZOBA_FK": "196",
                                    "FEROHELY": "2",
                                    "Hanyadik": "16"
                                },
                                {
                                    "SZOBA_FK": "184",
                                    "FEROHELY": "2",
                                    "Hanyadik": "16"
                                },
                                {
                                    "SZOBA_FK": "129",
                                    "FEROHELY": "2",
                                    "Hanyadik": "16"
                                },
                                {
                                    "SZOBA_FK": "100",
                                    "FEROHELY": "2",
                                    "Hanyadik": "16"
                                },
                                {
                                    "SZOBA_FK": "114",
                                    "FEROHELY": "2",
                                    "Hanyadik": "16"
                                },
                                {
                                    "SZOBA_FK": "98",
                                    "FEROHELY": "2",
                                    "Hanyadik": "16"
                                },
                                {
                                    "SZOBA_FK": "103",
                                    "FEROHELY": "2",
                                    "Hanyadik": "16"
                                },
                                {
                                    "SZOBA_FK": "85",
                                    "FEROHELY": "2",
                                    "Hanyadik": "16"
                                },
                                {
                                    "SZOBA_FK": "91",
                                    "FEROHELY": "2",
                                    "Hanyadik": "16"
                                },
                                {
                                    "SZOBA_FK": "11",
                                    "FEROHELY": "2",
                                    "Hanyadik": "16"
                                },
                                {
                                    "SZOBA_FK": "5",
                                    "FEROHELY": "2",
                                    "Hanyadik": "16"
                                },
                                {
                                    "SZOBA_FK": "21",
                                    "FEROHELY": "2",
                                    "Hanyadik": "16"
                                },
                                {
                                    "SZOBA_FK": "50",
                                    "FEROHELY": "2",
                                    "Hanyadik": "16"
                                },
                                {
                                    "SZOBA_FK": "57",
                                    "FEROHELY": "2",
                                    "Hanyadik": "16"
                                },
                                {
                                    "SZOBA_FK": "63",
                                    "FEROHELY": "2",
                                    "Hanyadik": "16"
                                },
                                {
                                    "SZOBA_FK": "72",
                                    "FEROHELY": "2",
                                    "Hanyadik": "16"
                                },
                                {
                                    "SZOBA_FK": "73",
                                    "FEROHELY": "2",
                                    "Hanyadik": "16"
                                },
                                {
                                    "SZOBA_FK": "66",
                                    "FEROHELY": "3",
                                    "Hanyadik": "17"
                                },
                                {
                                    "SZOBA_FK": "69",
                                    "FEROHELY": "3",
                                    "Hanyadik": "17"
                                },
                                {
                                    "SZOBA_FK": "46",
                                    "FEROHELY": "3",
                                    "Hanyadik": "17"
                                },
                                {
                                    "SZOBA_FK": "34",
                                    "FEROHELY": "3",
                                    "Hanyadik": "17"
                                },
                                {
                                    "SZOBA_FK": "40",
                                    "FEROHELY": "3",
                                    "Hanyadik": "17"
                                },
                                {
                                    "SZOBA_FK": "2",
                                    "FEROHELY": "3",
                                    "Hanyadik": "17"
                                },
                                {
                                    "SZOBA_FK": "10",
                                    "FEROHELY": "3",
                                    "Hanyadik": "17"
                                },
                                {
                                    "SZOBA_FK": "13",
                                    "FEROHELY": "3",
                                    "Hanyadik": "17"
                                },
                                {
                                    "SZOBA_FK": "90",
                                    "FEROHELY": "3",
                                    "Hanyadik": "17"
                                },
                                {
                                    "SZOBA_FK": "84",
                                    "FEROHELY": "3",
                                    "Hanyadik": "17"
                                },
                                {
                                    "SZOBA_FK": "104",
                                    "FEROHELY": "3",
                                    "Hanyadik": "17"
                                },
                                {
                                    "SZOBA_FK": "95",
                                    "FEROHELY": "3",
                                    "Hanyadik": "17"
                                },
                                {
                                    "SZOBA_FK": "183",
                                    "FEROHELY": "3",
                                    "Hanyadik": "17"
                                },
                                {
                                    "SZOBA_FK": "177",
                                    "FEROHELY": "3",
                                    "Hanyadik": "17"
                                },
                                {
                                    "SZOBA_FK": "178",
                                    "FEROHELY": "3",
                                    "Hanyadik": "17"
                                },
                                {
                                    "SZOBA_FK": "180",
                                    "FEROHELY": "2",
                                    "Hanyadik": "18"
                                },
                                {
                                    "SZOBA_FK": "151",
                                    "FEROHELY": "2",
                                    "Hanyadik": "18"
                                },
                                {
                                    "SZOBA_FK": "158",
                                    "FEROHELY": "2",
                                    "Hanyadik": "18"
                                },
                                {
                                    "SZOBA_FK": "166",
                                    "FEROHELY": "2",
                                    "Hanyadik": "18"
                                },
                                {
                                    "SZOBA_FK": "101",
                                    "FEROHELY": "2",
                                    "Hanyadik": "18"
                                },
                                {
                                    "SZOBA_FK": "75",
                                    "FEROHELY": "2",
                                    "Hanyadik": "18"
                                },
                                {
                                    "SZOBA_FK": "76",
                                    "FEROHELY": "2",
                                    "Hanyadik": "18"
                                },
                                {
                                    "SZOBA_FK": "136",
                                    "FEROHELY": "2",
                                    "Hanyadik": "18"
                                },
                                {
                                    "SZOBA_FK": "23",
                                    "FEROHELY": "2",
                                    "Hanyadik": "18"
                                },
                                {
                                    "SZOBA_FK": "37",
                                    "FEROHELY": "2",
                                    "Hanyadik": "18"
                                },
                                {
                                    "SZOBA_FK": "68",
                                    "FEROHELY": "2",
                                    "Hanyadik": "18"
                                },
                                {
                                    "SZOBA_FK": "71",
                                    "FEROHELY": "3",
                                    "Hanyadik": "19"
                                },
                                {
                                    "SZOBA_FK": "30",
                                    "FEROHELY": "3",
                                    "Hanyadik": "19"
                                },
                                {
                                    "SZOBA_FK": "31",
                                    "FEROHELY": "3",
                                    "Hanyadik": "19"
                                },
                                {
                                    "SZOBA_FK": "14",
                                    "FEROHELY": "3",
                                    "Hanyadik": "19"
                                },
                                {
                                    "SZOBA_FK": "135",
                                    "FEROHELY": "3",
                                    "Hanyadik": "19"
                                },
                                {
                                    "SZOBA_FK": "162",
                                    "FEROHELY": "3",
                                    "Hanyadik": "19"
                                },
                                {
                                    "SZOBA_FK": "179",
                                    "FEROHELY": "3",
                                    "Hanyadik": "19"
                                },
                                {
                                    "SZOBA_FK": "24",
                                    "FEROHELY": "4",
                                    "Hanyadik": "20"
                                },
                                {
                                    "SZOBA_FK": "26",
                                    "FEROHELY": "2",
                                    "Hanyadik": "21"
                                },
                                {
                                    "SZOBA_FK": "47",
                                    "FEROHELY": "2",
                                    "Hanyadik": "21"
                                },
                                {
                                    "SZOBA_FK": "53",
                                    "FEROHELY": "2",
                                    "Hanyadik": "21"
                                },
                                {
                                    "SZOBA_FK": "56",
                                    "FEROHELY": "2",
                                    "Hanyadik": "21"
                                },
                                {
                                    "SZOBA_FK": "108",
                                    "FEROHELY": "2",
                                    "Hanyadik": "21"
                                },
                                {
                                    "SZOBA_FK": "102",
                                    "FEROHELY": "2",
                                    "Hanyadik": "21"
                                },
                                {
                                    "SZOBA_FK": "105",
                                    "FEROHELY": "2",
                                    "Hanyadik": "21"
                                },
                                {
                                    "SZOBA_FK": "192",
                                    "FEROHELY": "2",
                                    "Hanyadik": "21"
                                },
                                {
                                    "SZOBA_FK": "167",
                                    "FEROHELY": "3",
                                    "Hanyadik": "22"
                                },
                                {
                                    "SZOBA_FK": "116",
                                    "FEROHELY": "3",
                                    "Hanyadik": "22"
                                },
                                {
                                    "SZOBA_FK": "142",
                                    "FEROHELY": "3",
                                    "Hanyadik": "22"
                                },
                                {
                                    "SZOBA_FK": "25",
                                    "FEROHELY": "3",
                                    "Hanyadik": "22"
                                },
                                {
                                    "SZOBA_FK": "41",
                                    "FEROHELY": "3",
                                    "Hanyadik": "22"
                                },
                                {
                                    "SZOBA_FK": "32",
                                    "FEROHELY": "2",
                                    "Hanyadik": "23"
                                },
                                {
                                    "SZOBA_FK": "65",
                                    "FEROHELY": "2",
                                    "Hanyadik": "23"
                                },
                                {
                                    "SZOBA_FK": "147",
                                    "FEROHELY": "2",
                                    "Hanyadik": "23"
                                },
                                {
                                    "SZOBA_FK": "125",
                                    "FEROHELY": "2",
                                    "Hanyadik": "23"
                                },
                                {
                                    "SZOBA_FK": "194",
                                    "FEROHELY": "2",
                                    "Hanyadik": "23"
                                },
                                {
                                    "SZOBA_FK": "60",
                                    "FEROHELY": "3",
                                    "Hanyadik": "24"
                                }
                            ]
                        },
                        "text/html": [
                            "<table>",
                            "<tr><th>SZOBA_FK</th><th>FEROHELY</th><th>Hanyadik</th></tr>",
                            "<tr><td>58</td><td>2</td><td>1</td></tr>",
                            "<tr><td>182</td><td>2</td><td>2</td></tr>",
                            "<tr><td>185</td><td>3</td><td>3</td></tr>",
                            "<tr><td>70</td><td>2</td><td>4</td></tr>",
                            "<tr><td>94</td><td>2</td><td>5</td></tr>",
                            "<tr><td>12</td><td>2</td><td>6</td></tr>",
                            "<tr><td>172</td><td>2</td><td>6</td></tr>",
                            "<tr><td>35</td><td>3</td><td>7</td></tr>",
                            "<tr><td>48</td><td>3</td><td>7</td></tr>",
                            "<tr><td>74</td><td>3</td><td>7</td></tr>",
                            "<tr><td>122</td><td>3</td><td>7</td></tr>",
                            "<tr><td>121</td><td>2</td><td>8</td></tr>",
                            "<tr><td>140</td><td>2</td><td>8</td></tr>",
                            "<tr><td>110</td><td>2</td><td>8</td></tr>",
                            "<tr><td>55</td><td>2</td><td>8</td></tr>",
                            "<tr><td>38</td><td>2</td><td>8</td></tr>",
                            "<tr><td>1</td><td>3</td><td>9</td></tr>",
                            "<tr><td>3</td><td>3</td><td>9</td></tr>",
                            "<tr><td>43</td><td>3</td><td>9</td></tr>",
                            "<tr><td>83</td><td>3</td><td>9</td></tr>",
                            "<tr><td>88</td><td>3</td><td>9</td></tr>",
                            "<tr><td>89</td><td>3</td><td>9</td></tr>",
                            "<tr><td>117</td><td>3</td><td>9</td></tr>",
                            "<tr><td>198</td><td>3</td><td>9</td></tr>",
                            "<tr><td>149</td><td>2</td><td>10</td></tr>",
                            "<tr><td>156</td><td>2</td><td>10</td></tr>",
                            "<tr><td>163</td><td>2</td><td>10</td></tr>",
                            "<tr><td>165</td><td>2</td><td>10</td></tr>",
                            "<tr><td>118</td><td>2</td><td>10</td></tr>",
                            "<tr><td>109</td><td>2</td><td>10</td></tr>",
                            "<tr><td>127</td><td>2</td><td>10</td></tr>",
                            "<tr><td>139</td><td>2</td><td>10</td></tr>",
                            "<tr><td>80</td><td>2</td><td>10</td></tr>",
                            "<tr><td>59</td><td>2</td><td>10</td></tr>",
                            "<tr><td>39</td><td>2</td><td>10</td></tr>",
                            "<tr><td>27</td><td>3</td><td>11</td></tr>",
                            "<tr><td>49</td><td>3</td><td>11</td></tr>",
                            "<tr><td>96</td><td>3</td><td>11</td></tr>",
                            "<tr><td>97</td><td>3</td><td>11</td></tr>",
                            "<tr><td>138</td><td>3</td><td>11</td></tr>",
                            "<tr><td>143</td><td>3</td><td>11</td></tr>",
                            "<tr><td>115</td><td>3</td><td>11</td></tr>",
                            "<tr><td>187</td><td>3</td><td>11</td></tr>",
                            "<tr><td>193</td><td>3</td><td>11</td></tr>",
                            "<tr><td>195</td><td>2</td><td>12</td></tr>",
                            "<tr><td>161</td><td>2</td><td>12</td></tr>",
                            "<tr><td>150</td><td>2</td><td>12</td></tr>",
                            "<tr><td>148</td><td>2</td><td>12</td></tr>",
                            "<tr><td>169</td><td>2</td><td>12</td></tr>",
                            "<tr><td>106</td><td>2</td><td>12</td></tr>",
                            "<tr><td>126</td><td>2</td><td>12</td></tr>",
                            "<tr><td>145</td><td>2</td><td>12</td></tr>",
                            "<tr><td>141</td><td>2</td><td>12</td></tr>",
                            "<tr><td>130</td><td>2</td><td>12</td></tr>",
                            "<tr><td>137</td><td>2</td><td>12</td></tr>",
                            "<tr><td>78</td><td>2</td><td>12</td></tr>",
                            "<tr><td>42</td><td>2</td><td>12</td></tr>",
                            "<tr><td>64</td><td>2</td><td>12</td></tr>",
                            "<tr><td>67</td><td>2</td><td>12</td></tr>",
                            "<tr><td>28</td><td>2</td><td>12</td></tr>",
                            "<tr><td>29</td><td>2</td><td>12</td></tr>",
                            "<tr><td>19</td><td>2</td><td>12</td></tr>",
                            "<tr><td>33</td><td>2</td><td>12</td></tr>",
                            "<tr><td>4</td><td>2</td><td>12</td></tr>",
                            "<tr><td>7</td><td>2</td><td>12</td></tr>",
                            "<tr><td>15</td><td>2</td><td>12</td></tr>",
                            "<tr><td>17</td><td>3</td><td>13</td></tr>",
                            "<tr><td>18</td><td>3</td><td>13</td></tr>",
                            "<tr><td>6</td><td>3</td><td>13</td></tr>",
                            "<tr><td>9</td><td>3</td><td>13</td></tr>",
                            "<tr><td>22</td><td>3</td><td>13</td></tr>",
                            "<tr><td>36</td><td>3</td><td>13</td></tr>",
                            "<tr><td>44</td><td>3</td><td>13</td></tr>",
                            "<tr><td>54</td><td>3</td><td>13</td></tr>",
                            "<tr><td>77</td><td>3</td><td>13</td></tr>",
                            "<tr><td>82</td><td>3</td><td>13</td></tr>",
                            "<tr><td>92</td><td>3</td><td>13</td></tr>",
                            "<tr><td>132</td><td>3</td><td>13</td></tr>",
                            "<tr><td>133</td><td>3</td><td>13</td></tr>",
                            "<tr><td>134</td><td>3</td><td>13</td></tr>",
                            "<tr><td>146</td><td>3</td><td>13</td></tr>",
                            "<tr><td>124</td><td>3</td><td>13</td></tr>",
                            "<tr><td>120</td><td>3</td><td>13</td></tr>",
                            "<tr><td>176</td><td>3</td><td>13</td></tr>",
                            "<tr><td>181</td><td>3</td><td>13</td></tr>",
                            "<tr><td>188</td><td>3</td><td>13</td></tr>",
                            "<tr><td>197</td><td>3</td><td>13</td></tr>",
                            "<tr><td>189</td><td>2</td><td>14</td></tr>",
                            "<tr><td>190</td><td>2</td><td>14</td></tr>",
                            "<tr><td>191</td><td>2</td><td>14</td></tr>",
                            "<tr><td>168</td><td>2</td><td>14</td></tr>",
                            "<tr><td>175</td><td>2</td><td>14</td></tr>",
                            "<tr><td>170</td><td>2</td><td>14</td></tr>",
                            "<tr><td>171</td><td>2</td><td>14</td></tr>",
                            "<tr><td>157</td><td>2</td><td>14</td></tr>",
                            "<tr><td>154</td><td>2</td><td>14</td></tr>",
                            "<tr><td>164</td><td>2</td><td>14</td></tr>",
                            "<tr><td>119</td><td>2</td><td>14</td></tr>",
                            "<tr><td>107</td><td>2</td><td>14</td></tr>",
                            "<tr><td>128</td><td>2</td><td>14</td></tr>",
                            "<tr><td>131</td><td>2</td><td>14</td></tr>",
                            "<tr><td>99</td><td>2</td><td>14</td></tr>",
                            "<tr><td>111</td><td>2</td><td>14</td></tr>",
                            "<tr><td>81</td><td>2</td><td>14</td></tr>",
                            "<tr><td>86</td><td>2</td><td>14</td></tr>",
                            "<tr><td>52</td><td>2</td><td>14</td></tr>",
                            "<tr><td>45</td><td>2</td><td>14</td></tr>",
                            "<tr><td>62</td><td>2</td><td>14</td></tr>",
                            "<tr><td>61</td><td>3</td><td>15</td></tr>",
                            "<tr><td>51</td><td>3</td><td>15</td></tr>",
                            "<tr><td>20</td><td>3</td><td>15</td></tr>",
                            "<tr><td>8</td><td>3</td><td>15</td></tr>",
                            "<tr><td>16</td><td>3</td><td>15</td></tr>",
                            "<tr><td>87</td><td>3</td><td>15</td></tr>",
                            "<tr><td>79</td><td>3</td><td>15</td></tr>",
                            "<tr><td>112</td><td>3</td><td>15</td></tr>",
                            "<tr><td>113</td><td>3</td><td>15</td></tr>",
                            "<tr><td>93</td><td>3</td><td>15</td></tr>",
                            "<tr><td>144</td><td>3</td><td>15</td></tr>",
                            "<tr><td>123</td><td>3</td><td>15</td></tr>",
                            "<tr><td>153</td><td>3</td><td>15</td></tr>",
                            "<tr><td>160</td><td>3</td><td>15</td></tr>",
                            "<tr><td>155</td><td>3</td><td>15</td></tr>",
                            "<tr><td>152</td><td>2</td><td>16</td></tr>",
                            "<tr><td>173</td><td>2</td><td>16</td></tr>",
                            "<tr><td>174</td><td>2</td><td>16</td></tr>",
                            "<tr><td>186</td><td>2</td><td>16</td></tr>",
                            "<tr><td>196</td><td>2</td><td>16</td></tr>",
                            "<tr><td>184</td><td>2</td><td>16</td></tr>",
                            "<tr><td>129</td><td>2</td><td>16</td></tr>",
                            "<tr><td>100</td><td>2</td><td>16</td></tr>",
                            "<tr><td>114</td><td>2</td><td>16</td></tr>",
                            "<tr><td>98</td><td>2</td><td>16</td></tr>",
                            "<tr><td>103</td><td>2</td><td>16</td></tr>",
                            "<tr><td>85</td><td>2</td><td>16</td></tr>",
                            "<tr><td>91</td><td>2</td><td>16</td></tr>",
                            "<tr><td>11</td><td>2</td><td>16</td></tr>",
                            "<tr><td>5</td><td>2</td><td>16</td></tr>",
                            "<tr><td>21</td><td>2</td><td>16</td></tr>",
                            "<tr><td>50</td><td>2</td><td>16</td></tr>",
                            "<tr><td>57</td><td>2</td><td>16</td></tr>",
                            "<tr><td>63</td><td>2</td><td>16</td></tr>",
                            "<tr><td>72</td><td>2</td><td>16</td></tr>",
                            "<tr><td>73</td><td>2</td><td>16</td></tr>",
                            "<tr><td>66</td><td>3</td><td>17</td></tr>",
                            "<tr><td>69</td><td>3</td><td>17</td></tr>",
                            "<tr><td>46</td><td>3</td><td>17</td></tr>",
                            "<tr><td>34</td><td>3</td><td>17</td></tr>",
                            "<tr><td>40</td><td>3</td><td>17</td></tr>",
                            "<tr><td>2</td><td>3</td><td>17</td></tr>",
                            "<tr><td>10</td><td>3</td><td>17</td></tr>",
                            "<tr><td>13</td><td>3</td><td>17</td></tr>",
                            "<tr><td>90</td><td>3</td><td>17</td></tr>",
                            "<tr><td>84</td><td>3</td><td>17</td></tr>",
                            "<tr><td>104</td><td>3</td><td>17</td></tr>",
                            "<tr><td>95</td><td>3</td><td>17</td></tr>",
                            "<tr><td>183</td><td>3</td><td>17</td></tr>",
                            "<tr><td>177</td><td>3</td><td>17</td></tr>",
                            "<tr><td>178</td><td>3</td><td>17</td></tr>",
                            "<tr><td>180</td><td>2</td><td>18</td></tr>",
                            "<tr><td>151</td><td>2</td><td>18</td></tr>",
                            "<tr><td>158</td><td>2</td><td>18</td></tr>",
                            "<tr><td>166</td><td>2</td><td>18</td></tr>",
                            "<tr><td>101</td><td>2</td><td>18</td></tr>",
                            "<tr><td>75</td><td>2</td><td>18</td></tr>",
                            "<tr><td>76</td><td>2</td><td>18</td></tr>",
                            "<tr><td>136</td><td>2</td><td>18</td></tr>",
                            "<tr><td>23</td><td>2</td><td>18</td></tr>",
                            "<tr><td>37</td><td>2</td><td>18</td></tr>",
                            "<tr><td>68</td><td>2</td><td>18</td></tr>",
                            "<tr><td>71</td><td>3</td><td>19</td></tr>",
                            "<tr><td>30</td><td>3</td><td>19</td></tr>",
                            "<tr><td>31</td><td>3</td><td>19</td></tr>",
                            "<tr><td>14</td><td>3</td><td>19</td></tr>",
                            "<tr><td>135</td><td>3</td><td>19</td></tr>",
                            "<tr><td>162</td><td>3</td><td>19</td></tr>",
                            "<tr><td>179</td><td>3</td><td>19</td></tr>",
                            "<tr><td>24</td><td>4</td><td>20</td></tr>",
                            "<tr><td>26</td><td>2</td><td>21</td></tr>",
                            "<tr><td>47</td><td>2</td><td>21</td></tr>",
                            "<tr><td>53</td><td>2</td><td>21</td></tr>",
                            "<tr><td>56</td><td>2</td><td>21</td></tr>",
                            "<tr><td>108</td><td>2</td><td>21</td></tr>",
                            "<tr><td>102</td><td>2</td><td>21</td></tr>",
                            "<tr><td>105</td><td>2</td><td>21</td></tr>",
                            "<tr><td>192</td><td>2</td><td>21</td></tr>",
                            "<tr><td>167</td><td>3</td><td>22</td></tr>",
                            "<tr><td>116</td><td>3</td><td>22</td></tr>",
                            "<tr><td>142</td><td>3</td><td>22</td></tr>",
                            "<tr><td>25</td><td>3</td><td>22</td></tr>",
                            "<tr><td>41</td><td>3</td><td>22</td></tr>",
                            "<tr><td>32</td><td>2</td><td>23</td></tr>",
                            "<tr><td>65</td><td>2</td><td>23</td></tr>",
                            "<tr><td>147</td><td>2</td><td>23</td></tr>",
                            "<tr><td>125</td><td>2</td><td>23</td></tr>",
                            "<tr><td>194</td><td>2</td><td>23</td></tr>",
                            "<tr><td>60</td><td>3</td><td>24</td></tr>",
                            "</table>"
                        ]
                    }
                }
            ],
            "execution_count": 10
        },
        {
            "cell_type": "markdown",
            "source": [
                "# **3\\. feladat**"
            ],
            "metadata": {
                "azdata_cell_guid": "fe116205-5251-4c7c-94b8-d44bd85786a5"
            },
            "attachments": {}
        },
        {
            "cell_type": "code",
            "source": [
                "SELECT f.*\n",
                "FROM foglalas f join Vendeg v ON f.UGYFEL_FK = v.USERNEV\n",
                "WHERE v.szul_dat =\n",
                " ( \n",
                "  SELECT MAX(szul_dat)\n",
                "  FROM Vendeg\n",
                "  WHERE szul_dat <\n",
                "   ( \n",
                "     SELECT MAX(szul_dat) \n",
                "     FROM Vendeg\n",
                "     ) \n",
                ")"
            ],
            "metadata": {
                "azdata_cell_guid": "294c303f-e3e3-4ab9-9acd-dd2bf30520be",
                "language": "sql"
            },
            "outputs": [
                {
                    "output_type": "display_data",
                    "data": {
                        "text/html": "(4 rows affected)"
                    },
                    "metadata": {}
                },
                {
                    "output_type": "display_data",
                    "data": {
                        "text/html": "Total execution time: 00:00:00.031"
                    },
                    "metadata": {}
                },
                {
                    "output_type": "execute_result",
                    "metadata": {},
                    "execution_count": 12,
                    "data": {
                        "application/vnd.dataresource+json": {
                            "schema": {
                                "fields": [
                                    {
                                        "name": "FOGLALAS_PK"
                                    },
                                    {
                                        "name": "UGYFEL_FK"
                                    },
                                    {
                                        "name": "SZOBA_FK"
                                    },
                                    {
                                        "name": "METTOL"
                                    },
                                    {
                                        "name": "MEDDIG"
                                    },
                                    {
                                        "name": "FELNOTT_SZAM"
                                    },
                                    {
                                        "name": "GYERMEK_SZAM"
                                    }
                                ]
                            },
                            "data": [
                                {
                                    "FOGLALAS_PK": "583",
                                    "UGYFEL_FK": "istvan1",
                                    "SZOBA_FK": "79",
                                    "METTOL": "2016-04-16",
                                    "MEDDIG": "2016-04-22",
                                    "FELNOTT_SZAM": "3",
                                    "GYERMEK_SZAM": "0"
                                },
                                {
                                    "FOGLALAS_PK": "599",
                                    "UGYFEL_FK": "istvan1",
                                    "SZOBA_FK": "162",
                                    "METTOL": "2016-04-24",
                                    "MEDDIG": "2016-04-28",
                                    "FELNOTT_SZAM": "3",
                                    "GYERMEK_SZAM": "0"
                                },
                                {
                                    "FOGLALAS_PK": "689",
                                    "UGYFEL_FK": "istvan1",
                                    "SZOBA_FK": "102",
                                    "METTOL": "2016-07-19",
                                    "MEDDIG": "2016-07-24",
                                    "FELNOTT_SZAM": "1",
                                    "GYERMEK_SZAM": "0"
                                },
                                {
                                    "FOGLALAS_PK": "1507",
                                    "UGYFEL_FK": "istvan1",
                                    "SZOBA_FK": "153",
                                    "METTOL": "2017-02-07",
                                    "MEDDIG": "2017-02-10",
                                    "FELNOTT_SZAM": "2",
                                    "GYERMEK_SZAM": "1"
                                }
                            ]
                        },
                        "text/html": [
                            "<table>",
                            "<tr><th>FOGLALAS_PK</th><th>UGYFEL_FK</th><th>SZOBA_FK</th><th>METTOL</th><th>MEDDIG</th><th>FELNOTT_SZAM</th><th>GYERMEK_SZAM</th></tr>",
                            "<tr><td>583</td><td>istvan1</td><td>79</td><td>2016-04-16</td><td>2016-04-22</td><td>3</td><td>0</td></tr>",
                            "<tr><td>599</td><td>istvan1</td><td>162</td><td>2016-04-24</td><td>2016-04-28</td><td>3</td><td>0</td></tr>",
                            "<tr><td>689</td><td>istvan1</td><td>102</td><td>2016-07-19</td><td>2016-07-24</td><td>1</td><td>0</td></tr>",
                            "<tr><td>1507</td><td>istvan1</td><td>153</td><td>2017-02-07</td><td>2017-02-10</td><td>2</td><td>1</td></tr>",
                            "</table>"
                        ]
                    }
                }
            ],
            "execution_count": 12
        }
    ]
}